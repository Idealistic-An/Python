{
 "cells": [
  {
   "cell_type": "code",
   "execution_count": 2,
   "metadata": {},
   "outputs": [
    {
     "name": "stdout",
     "output_type": "stream",
     "text": [
      "0    1\n",
      "1    2\n",
      "2    3\n",
      "3    4\n",
      "4    5\n",
      "5    6\n",
      "6    7\n",
      "dtype: int64\n"
     ]
    }
   ],
   "source": [
    "                    import pandas as pd \n",
    "a=pd.Series([1,2,3,4,5,6,7])\n",
    "print(a)"
   ]
  },
  {
   "cell_type": "code",
   "execution_count": 3,
   "metadata": {},
   "outputs": [
    {
     "name": "stdout",
     "output_type": "stream",
     "text": [
      "0    1\n",
      "1    2\n",
      "2    3\n",
      "3    4\n",
      "4    5\n",
      "5    6\n",
      "6    7\n",
      "dtype: int64\n"
     ]
    }
   ],
   "source": [
    "import numpy as np \n",
    "a1=pd.Series([1,3,4,5,6,7])\n",
    "print(a)"
   ]
  },
  {
   "cell_type": "code",
   "execution_count": 4,
   "metadata": {},
   "outputs": [
    {
     "name": "stdout",
     "output_type": "stream",
     "text": [
      "0    1.0\n",
      "1    3.0\n",
      "2    4.0\n",
      "3    NaN\n",
      "4    6.0\n",
      "dtype: float64\n"
     ]
    }
   ],
   "source": [
    "# Missing values then it can be nan of numpy\n",
    "\n",
    "import numpy as np \n",
    "a1=pd.Series([1,3,4,np.nan,6])\n",
    "print(a1)"
   ]
  },
  {
   "cell_type": "code",
   "execution_count": 22,
   "metadata": {},
   "outputs": [
    {
     "name": "stdout",
     "output_type": "stream",
     "text": [
      "DatetimeIndex(['2019-06-01', '2019-06-02', '2019-06-03', '2019-06-04',\n",
      "               '2019-06-05', '2019-06-06', '2019-06-07', '2019-06-08',\n",
      "               '2019-06-09', '2019-06-10', '2019-06-11', '2019-06-12',\n",
      "               '2019-06-13', '2019-06-14', '2019-06-15', '2019-06-16',\n",
      "               '2019-06-17', '2019-06-18', '2019-06-19', '2019-06-20',\n",
      "               '2019-06-21', '2019-06-22', '2019-06-23', '2019-06-24',\n",
      "               '2019-06-25', '2019-06-26', '2019-06-27', '2019-06-28',\n",
      "               '2019-06-29', '2019-06-30', '2019-07-01', '2019-07-02',\n",
      "               '2019-07-03', '2019-07-04', '2019-07-05', '2019-07-06',\n",
      "               '2019-07-07', '2019-07-08', '2019-07-09', '2019-07-10',\n",
      "               '2019-07-11', '2019-07-12', '2019-07-13', '2019-07-14',\n",
      "               '2019-07-15', '2019-07-16', '2019-07-17', '2019-07-18',\n",
      "               '2019-07-19', '2019-07-20', '2019-07-21', '2019-07-22',\n",
      "               '2019-07-23', '2019-07-24', '2019-07-25', '2019-07-26',\n",
      "               '2019-07-27', '2019-07-28', '2019-07-29', '2019-07-30',\n",
      "               '2019-07-31', '2019-08-01', '2019-08-02', '2019-08-03',\n",
      "               '2019-08-04', '2019-08-05', '2019-08-06', '2019-08-07',\n",
      "               '2019-08-08', '2019-08-09', '2019-08-10', '2019-08-11',\n",
      "               '2019-08-12', '2019-08-13', '2019-08-14', '2019-08-15',\n",
      "               '2019-08-16', '2019-08-17', '2019-08-18', '2019-08-19',\n",
      "               '2019-08-20', '2019-08-21', '2019-08-22', '2019-08-23',\n",
      "               '2019-08-24', '2019-08-25', '2019-08-26', '2019-08-27',\n",
      "               '2019-08-28', '2019-08-29', '2019-08-30', '2019-08-31',\n",
      "               '2019-09-01', '2019-09-02', '2019-09-03', '2019-09-04',\n",
      "               '2019-09-05', '2019-09-06', '2019-09-07', '2019-09-08'],\n",
      "              dtype='datetime64[ns]', freq='D')\n"
     ]
    }
   ],
   "source": [
    "# Create list of dates within particular range\n",
    "dates=pd.date_range('20190601',periods=100)\n",
    "print(dates)"
   ]
  },
  {
   "cell_type": "code",
   "execution_count": 5,
   "metadata": {},
   "outputs": [
    {
     "name": "stdout",
     "output_type": "stream",
     "text": [
      "   A          B    C  D      E    F\n",
      "0  1 2019-06-01  1.0  3   test  foo\n",
      "1  1 2019-06-01  1.0  3  train  foo\n",
      "2  1 2019-06-01  1.0  3   test  foo\n",
      "3  1 2019-06-01  1.0  3  train  foo\n"
     ]
    }
   ],
   "source": [
    "a3=pd.DataFrame({'A':1,\n",
    "                'B':pd.Timestamp('20190601'),\n",
    "                'C':pd.Series(1,index=list(range(4)),dtype='float32'),\n",
    "                'D':np.array([3]*4,dtype='int32'),\n",
    "                'E':pd.Categorical([\"test\",\"train\",\"test\",\"train\"]),\n",
    "                'F':\"foo\"})\n",
    "print(a3)"
   ]
  },
  {
   "cell_type": "markdown",
   "metadata": {},
   "source": [
    "# Turtle Graphics\n",
    "\n",
    "Turtle is a python feature like a drawing board<br>\n",
    "Square,lines,stars,etc..<br>\n",
    "Turtle()-- it creates and returns new object<br>"
   ]
  },
  {
   "cell_type": "code",
   "execution_count": null,
   "metadata": {},
   "outputs": [],
   "source": [
    "#Step 1: import all turtle package\n",
    "import turtle as tt\n",
    "#Turtle creates and returns object\n",
    "a1=tt.Turtle()\n",
    "#forward()method moves 100 pixels\n",
    "tt.forward(100)\n",
    "#we are done\n",
    "tt.done()"
   ]
  },
  {
   "cell_type": "code",
   "execution_count": 14,
   "metadata": {},
   "outputs": [],
   "source": [
    "# Drwaing a Square\n",
    "import turtle as tt\n",
    "a1=tt.Turtle()\n",
    "a1.forward(50)\n",
    "a1.right(90)\n",
    "a1.forward(50)\n",
    "a1.right(90)\n",
    "a1.forward(50)\n",
    "a1.right(90)\n",
    "a1.forward(50)\n",
    "a1.right(90)\n",
    "tt.done()\n"
   ]
  },
  {
   "cell_type": "code",
   "execution_count": 16,
   "metadata": {},
   "outputs": [],
   "source": [
    "# Drwaing a Square\n",
    "import turtle as tt\n",
    "a1=tt.Turtle()\n",
    "a1.backward(50)\n",
    "a1.left(90)\n",
    "a1.backward(50)\n",
    "a1.left(90)\n",
    "a1.backward(50)\n",
    "a1.left(90)\n",
    "a1.backward(50)\n",
    "a1.left(90)\n",
    "tt.done()"
   ]
  },
  {
   "cell_type": "code",
   "execution_count": 18,
   "metadata": {},
   "outputs": [],
   "source": [
    "# Drwaing a Square\n",
    "import turtle as tt\n",
    "a1=tt.Turtle()\n",
    "for x in range(4):\n",
    "    a1.forward(50)\n",
    "    a1.right(90)\n",
    "\n",
    "            \n",
    "    \n",
    "\n",
    "\n",
    "tt.done()"
   ]
  },
  {
   "cell_type": "code",
   "execution_count": 24,
   "metadata": {},
   "outputs": [],
   "source": [
    "import turtle as tt\n",
    "a1=tt.Turtle()\n",
    "\n",
    "for x in range(40):\n",
    "    a1.forward(50)\n",
    "    a1.right(144)   \n",
    "tt.done()    "
   ]
  },
  {
   "cell_type": "code",
   "execution_count": 35,
   "metadata": {},
   "outputs": [],
   "source": [
    "import turtle as tt\n",
    "a1=tt.Turtle()\n",
    "a1.pencolor(\"lime\")\n",
    "for i in range(50):\n",
    "    a1.forward(50)\n",
    "    a1.right(123)\n",
    "    \n",
    "tt.done()"
   ]
  },
  {
   "cell_type": "code",
   "execution_count": 41,
   "metadata": {},
   "outputs": [],
   "source": [
    "#A spiral\n",
    "import turtle as tt\n",
    "a1=tt.Turtle()\n",
    "a1.pencolor(\"lime\")\n",
    "for i in range(50):\n",
    "    a1.forward(50)\n",
    "    a1.right(123)\n",
    "a1.pencolor(\"red\")\n",
    "for i in range(50):\n",
    "    a1.forward(100)\n",
    "    a1.left(123)\n",
    "    \n",
    "tt.done()"
   ]
  },
  {
   "cell_type": "code",
   "execution_count": 8,
   "metadata": {},
   "outputs": [],
   "source": [
    "# A colorful Hexagon\n",
    "\n",
    "import turtle as tt\n",
    "colors=['red','orange','yellow','green','blue','indigo','violet']\n",
    "a1=tt.Turtle()\n",
    "for x in range(360):\n",
    "    a1.pencolor(colors[x%7])\n",
    "    a1.width(x/100+1)\n",
    "    a1.forward(x)\n",
    "    a1.left(59)\n",
    "    \n",
    "tt.done()    "
   ]
  },
  {
   "cell_type": "code",
   "execution_count": 5,
   "metadata": {},
   "outputs": [
    {
     "ename": "Terminator",
     "evalue": "",
     "output_type": "error",
     "traceback": [
      "\u001b[1;31m---------------------------------------------------------------------------\u001b[0m",
      "\u001b[1;31mTerminator\u001b[0m                                Traceback (most recent call last)",
      "\u001b[1;32m<ipython-input-5-e325744b70d0>\u001b[0m in \u001b[0;36m<module>\u001b[1;34m\u001b[0m\n\u001b[0;32m      6\u001b[0m     \u001b[0ma1\u001b[0m\u001b[1;33m.\u001b[0m\u001b[0mwidth\u001b[0m\u001b[1;33m(\u001b[0m\u001b[0mx\u001b[0m\u001b[1;33m/\u001b[0m\u001b[1;36m100\u001b[0m\u001b[1;33m+\u001b[0m\u001b[1;36m1\u001b[0m\u001b[1;33m)\u001b[0m\u001b[1;33m\u001b[0m\u001b[1;33m\u001b[0m\u001b[0m\n\u001b[0;32m      7\u001b[0m     \u001b[0ma1\u001b[0m\u001b[1;33m.\u001b[0m\u001b[0mforward\u001b[0m\u001b[1;33m(\u001b[0m\u001b[0mx\u001b[0m\u001b[1;33m)\u001b[0m\u001b[1;33m\u001b[0m\u001b[1;33m\u001b[0m\u001b[0m\n\u001b[1;32m----> 8\u001b[1;33m     \u001b[0ma1\u001b[0m\u001b[1;33m.\u001b[0m\u001b[0mleft\u001b[0m\u001b[1;33m(\u001b[0m\u001b[1;36m59\u001b[0m\u001b[1;33m)\u001b[0m\u001b[1;33m\u001b[0m\u001b[1;33m\u001b[0m\u001b[0m\n\u001b[0m\u001b[0;32m      9\u001b[0m \u001b[1;33m\u001b[0m\u001b[0m\n\u001b[0;32m     10\u001b[0m \u001b[0mtt\u001b[0m\u001b[1;33m.\u001b[0m\u001b[0mdone\u001b[0m\u001b[1;33m(\u001b[0m\u001b[1;33m)\u001b[0m\u001b[1;33m\u001b[0m\u001b[1;33m\u001b[0m\u001b[0m\n",
      "\u001b[1;32m~\\Anaconda3\\lib\\turtle.py\u001b[0m in \u001b[0;36mleft\u001b[1;34m(self, angle)\u001b[0m\n\u001b[0;32m   1697\u001b[0m         \u001b[1;36m67.0\u001b[0m\u001b[1;33m\u001b[0m\u001b[1;33m\u001b[0m\u001b[0m\n\u001b[0;32m   1698\u001b[0m         \"\"\"\n\u001b[1;32m-> 1699\u001b[1;33m         \u001b[0mself\u001b[0m\u001b[1;33m.\u001b[0m\u001b[0m_rotate\u001b[0m\u001b[1;33m(\u001b[0m\u001b[0mangle\u001b[0m\u001b[1;33m)\u001b[0m\u001b[1;33m\u001b[0m\u001b[1;33m\u001b[0m\u001b[0m\n\u001b[0m\u001b[0;32m   1700\u001b[0m \u001b[1;33m\u001b[0m\u001b[0m\n\u001b[0;32m   1701\u001b[0m     \u001b[1;32mdef\u001b[0m \u001b[0mpos\u001b[0m\u001b[1;33m(\u001b[0m\u001b[0mself\u001b[0m\u001b[1;33m)\u001b[0m\u001b[1;33m:\u001b[0m\u001b[1;33m\u001b[0m\u001b[1;33m\u001b[0m\u001b[0m\n",
      "\u001b[1;32m~\\Anaconda3\\lib\\turtle.py\u001b[0m in \u001b[0;36m_rotate\u001b[1;34m(self, angle)\u001b[0m\n\u001b[0;32m   3276\u001b[0m                 \u001b[0mself\u001b[0m\u001b[1;33m.\u001b[0m\u001b[0m_update\u001b[0m\u001b[1;33m(\u001b[0m\u001b[1;33m)\u001b[0m\u001b[1;33m\u001b[0m\u001b[1;33m\u001b[0m\u001b[0m\n\u001b[0;32m   3277\u001b[0m         \u001b[0mself\u001b[0m\u001b[1;33m.\u001b[0m\u001b[0m_orient\u001b[0m \u001b[1;33m=\u001b[0m \u001b[0mneworient\u001b[0m\u001b[1;33m\u001b[0m\u001b[1;33m\u001b[0m\u001b[0m\n\u001b[1;32m-> 3278\u001b[1;33m         \u001b[0mself\u001b[0m\u001b[1;33m.\u001b[0m\u001b[0m_update\u001b[0m\u001b[1;33m(\u001b[0m\u001b[1;33m)\u001b[0m\u001b[1;33m\u001b[0m\u001b[1;33m\u001b[0m\u001b[0m\n\u001b[0m\u001b[0;32m   3279\u001b[0m \u001b[1;33m\u001b[0m\u001b[0m\n\u001b[0;32m   3280\u001b[0m     \u001b[1;32mdef\u001b[0m \u001b[0m_newLine\u001b[0m\u001b[1;33m(\u001b[0m\u001b[0mself\u001b[0m\u001b[1;33m,\u001b[0m \u001b[0musePos\u001b[0m\u001b[1;33m=\u001b[0m\u001b[1;32mTrue\u001b[0m\u001b[1;33m)\u001b[0m\u001b[1;33m:\u001b[0m\u001b[1;33m\u001b[0m\u001b[1;33m\u001b[0m\u001b[0m\n",
      "\u001b[1;32m~\\Anaconda3\\lib\\turtle.py\u001b[0m in \u001b[0;36m_update\u001b[1;34m(self)\u001b[0m\n\u001b[0;32m   2658\u001b[0m             \u001b[1;32mreturn\u001b[0m\u001b[1;33m\u001b[0m\u001b[1;33m\u001b[0m\u001b[0m\n\u001b[0;32m   2659\u001b[0m         \u001b[1;32melif\u001b[0m \u001b[0mscreen\u001b[0m\u001b[1;33m.\u001b[0m\u001b[0m_tracing\u001b[0m \u001b[1;33m==\u001b[0m \u001b[1;36m1\u001b[0m\u001b[1;33m:\u001b[0m\u001b[1;33m\u001b[0m\u001b[1;33m\u001b[0m\u001b[0m\n\u001b[1;32m-> 2660\u001b[1;33m             \u001b[0mself\u001b[0m\u001b[1;33m.\u001b[0m\u001b[0m_update_data\u001b[0m\u001b[1;33m(\u001b[0m\u001b[1;33m)\u001b[0m\u001b[1;33m\u001b[0m\u001b[1;33m\u001b[0m\u001b[0m\n\u001b[0m\u001b[0;32m   2661\u001b[0m             \u001b[0mself\u001b[0m\u001b[1;33m.\u001b[0m\u001b[0m_drawturtle\u001b[0m\u001b[1;33m(\u001b[0m\u001b[1;33m)\u001b[0m\u001b[1;33m\u001b[0m\u001b[1;33m\u001b[0m\u001b[0m\n\u001b[0;32m   2662\u001b[0m             \u001b[0mscreen\u001b[0m\u001b[1;33m.\u001b[0m\u001b[0m_update\u001b[0m\u001b[1;33m(\u001b[0m\u001b[1;33m)\u001b[0m                  \u001b[1;31m# TurtleScreenBase\u001b[0m\u001b[1;33m\u001b[0m\u001b[1;33m\u001b[0m\u001b[0m\n",
      "\u001b[1;32m~\\Anaconda3\\lib\\turtle.py\u001b[0m in \u001b[0;36m_update_data\u001b[1;34m(self)\u001b[0m\n\u001b[0;32m   2644\u001b[0m \u001b[1;33m\u001b[0m\u001b[0m\n\u001b[0;32m   2645\u001b[0m     \u001b[1;32mdef\u001b[0m \u001b[0m_update_data\u001b[0m\u001b[1;33m(\u001b[0m\u001b[0mself\u001b[0m\u001b[1;33m)\u001b[0m\u001b[1;33m:\u001b[0m\u001b[1;33m\u001b[0m\u001b[1;33m\u001b[0m\u001b[0m\n\u001b[1;32m-> 2646\u001b[1;33m         \u001b[0mself\u001b[0m\u001b[1;33m.\u001b[0m\u001b[0mscreen\u001b[0m\u001b[1;33m.\u001b[0m\u001b[0m_incrementudc\u001b[0m\u001b[1;33m(\u001b[0m\u001b[1;33m)\u001b[0m\u001b[1;33m\u001b[0m\u001b[1;33m\u001b[0m\u001b[0m\n\u001b[0m\u001b[0;32m   2647\u001b[0m         \u001b[1;32mif\u001b[0m \u001b[0mself\u001b[0m\u001b[1;33m.\u001b[0m\u001b[0mscreen\u001b[0m\u001b[1;33m.\u001b[0m\u001b[0m_updatecounter\u001b[0m \u001b[1;33m!=\u001b[0m \u001b[1;36m0\u001b[0m\u001b[1;33m:\u001b[0m\u001b[1;33m\u001b[0m\u001b[1;33m\u001b[0m\u001b[0m\n\u001b[0;32m   2648\u001b[0m             \u001b[1;32mreturn\u001b[0m\u001b[1;33m\u001b[0m\u001b[1;33m\u001b[0m\u001b[0m\n",
      "\u001b[1;32m~\\Anaconda3\\lib\\turtle.py\u001b[0m in \u001b[0;36m_incrementudc\u001b[1;34m(self)\u001b[0m\n\u001b[0;32m   1290\u001b[0m         \u001b[1;32mif\u001b[0m \u001b[1;32mnot\u001b[0m \u001b[0mTurtleScreen\u001b[0m\u001b[1;33m.\u001b[0m\u001b[0m_RUNNING\u001b[0m\u001b[1;33m:\u001b[0m\u001b[1;33m\u001b[0m\u001b[1;33m\u001b[0m\u001b[0m\n\u001b[0;32m   1291\u001b[0m             \u001b[0mTurtleScreen\u001b[0m\u001b[1;33m.\u001b[0m\u001b[0m_RUNNING\u001b[0m \u001b[1;33m=\u001b[0m \u001b[1;32mTrue\u001b[0m\u001b[1;33m\u001b[0m\u001b[1;33m\u001b[0m\u001b[0m\n\u001b[1;32m-> 1292\u001b[1;33m             \u001b[1;32mraise\u001b[0m \u001b[0mTerminator\u001b[0m\u001b[1;33m\u001b[0m\u001b[1;33m\u001b[0m\u001b[0m\n\u001b[0m\u001b[0;32m   1293\u001b[0m         \u001b[1;32mif\u001b[0m \u001b[0mself\u001b[0m\u001b[1;33m.\u001b[0m\u001b[0m_tracing\u001b[0m \u001b[1;33m>\u001b[0m \u001b[1;36m0\u001b[0m\u001b[1;33m:\u001b[0m\u001b[1;33m\u001b[0m\u001b[1;33m\u001b[0m\u001b[0m\n\u001b[0;32m   1294\u001b[0m             \u001b[0mself\u001b[0m\u001b[1;33m.\u001b[0m\u001b[0m_updatecounter\u001b[0m \u001b[1;33m+=\u001b[0m \u001b[1;36m1\u001b[0m\u001b[1;33m\u001b[0m\u001b[1;33m\u001b[0m\u001b[0m\n",
      "\u001b[1;31mTerminator\u001b[0m: "
     ]
    }
   ],
   "source": [
    "import turtle as tt\n",
    "colors=['red','orange','yellow','green','blue','violet']\n",
    "a1=tt.Turtle()\n",
    "for x in range(360):\n",
    "    a1.pencolor(colors[x%6])\n",
    "    a1.width(x/100+1)\n",
    "    a1.forward(x)\n",
    "    a1.left(59)\n",
    "    \n",
    "tt.done()    "
   ]
  },
  {
   "cell_type": "code",
   "execution_count": 17,
   "metadata": {},
   "outputs": [],
   "source": [
    "# generation of dots\n",
    "\n",
    "import turtle as tt\n",
    "a1=tt.Turtle()\n",
    "colors=['red','orange','yellow','green','blue','indigo','violet']\n",
    "dot_distance=10\n",
    "width=10\n",
    "height=15\n",
    "a1.penup()\n",
    "for x in range(height):\n",
    "    a1.pencolor(colors[x%7])\n",
    "    for i in range(width):\n",
    "        a1.dot()\n",
    "        a1.forward(dot_distance)\n",
    "    a1.forward(dot_distance*width)\n",
    "    a1.right(90)\n",
    "    a1.forward(dot_distance)\n",
    "    a1.left(90)\n",
    "tt.done()    "
   ]
  },
  {
   "cell_type": "code",
   "execution_count": 24,
   "metadata": {},
   "outputs": [
    {
     "ename": "Terminator",
     "evalue": "",
     "output_type": "error",
     "traceback": [
      "\u001b[1;31m---------------------------------------------------------------------------\u001b[0m",
      "\u001b[1;31mTerminator\u001b[0m                                Traceback (most recent call last)",
      "\u001b[1;32m<ipython-input-24-921bce9cada9>\u001b[0m in \u001b[0;36m<module>\u001b[1;34m\u001b[0m\n\u001b[0;32m     17\u001b[0m \u001b[1;33m\u001b[0m\u001b[0m\n\u001b[0;32m     18\u001b[0m     \u001b[1;32mfor\u001b[0m \u001b[0mi\u001b[0m \u001b[1;32min\u001b[0m \u001b[0mrange\u001b[0m\u001b[1;33m(\u001b[0m\u001b[1;36m6\u001b[0m\u001b[1;33m)\u001b[0m\u001b[1;33m:\u001b[0m\u001b[1;33m\u001b[0m\u001b[1;33m\u001b[0m\u001b[0m\n\u001b[1;32m---> 19\u001b[1;33m         \u001b[0mcircle\u001b[0m\u001b[1;33m(\u001b[0m\u001b[0mcircle_size\u001b[0m\u001b[1;33m)\u001b[0m\u001b[1;33m\u001b[0m\u001b[1;33m\u001b[0m\u001b[0m\n\u001b[0m\u001b[0;32m     20\u001b[0m         \u001b[0mleft\u001b[0m\u001b[1;33m(\u001b[0m\u001b[1;36m60\u001b[0m\u001b[1;33m)\u001b[0m\u001b[1;33m\u001b[0m\u001b[1;33m\u001b[0m\u001b[0m\n\u001b[0;32m     21\u001b[0m \u001b[1;33m\u001b[0m\u001b[0m\n",
      "\u001b[1;32m~\\Anaconda3\\lib\\turtle.py\u001b[0m in \u001b[0;36mcircle\u001b[1;34m(radius, extent, steps)\u001b[0m\n",
      "\u001b[1;32m~\\Anaconda3\\lib\\turtle.py\u001b[0m in \u001b[0;36mcircle\u001b[1;34m(self, radius, extent, steps)\u001b[0m\n\u001b[0;32m   1990\u001b[0m             \u001b[0mself\u001b[0m\u001b[1;33m.\u001b[0m\u001b[0mspeed\u001b[0m\u001b[1;33m(\u001b[0m\u001b[0mspeed\u001b[0m\u001b[1;33m)\u001b[0m\u001b[1;33m\u001b[0m\u001b[1;33m\u001b[0m\u001b[0m\n\u001b[0;32m   1991\u001b[0m             \u001b[0mself\u001b[0m\u001b[1;33m.\u001b[0m\u001b[0m_go\u001b[0m\u001b[1;33m(\u001b[0m\u001b[0ml\u001b[0m\u001b[1;33m)\u001b[0m\u001b[1;33m\u001b[0m\u001b[1;33m\u001b[0m\u001b[0m\n\u001b[1;32m-> 1992\u001b[1;33m             \u001b[0mself\u001b[0m\u001b[1;33m.\u001b[0m\u001b[0mspeed\u001b[0m\u001b[1;33m(\u001b[0m\u001b[1;36m0\u001b[0m\u001b[1;33m)\u001b[0m\u001b[1;33m\u001b[0m\u001b[1;33m\u001b[0m\u001b[0m\n\u001b[0m\u001b[0;32m   1993\u001b[0m             \u001b[0mself\u001b[0m\u001b[1;33m.\u001b[0m\u001b[0m_rotate\u001b[0m\u001b[1;33m(\u001b[0m\u001b[0mw\u001b[0m\u001b[1;33m)\u001b[0m\u001b[1;33m\u001b[0m\u001b[1;33m\u001b[0m\u001b[0m\n\u001b[0;32m   1994\u001b[0m         \u001b[0mself\u001b[0m\u001b[1;33m.\u001b[0m\u001b[0m_rotate\u001b[0m\u001b[1;33m(\u001b[0m\u001b[1;33m-\u001b[0m\u001b[0mw2\u001b[0m\u001b[1;33m)\u001b[0m\u001b[1;33m\u001b[0m\u001b[1;33m\u001b[0m\u001b[0m\n",
      "\u001b[1;32m~\\Anaconda3\\lib\\turtle.py\u001b[0m in \u001b[0;36mspeed\u001b[1;34m(self, speed)\u001b[0m\n\u001b[0;32m   2172\u001b[0m         \u001b[1;32melse\u001b[0m\u001b[1;33m:\u001b[0m\u001b[1;33m\u001b[0m\u001b[1;33m\u001b[0m\u001b[0m\n\u001b[0;32m   2173\u001b[0m             \u001b[0mspeed\u001b[0m \u001b[1;33m=\u001b[0m \u001b[1;36m0\u001b[0m\u001b[1;33m\u001b[0m\u001b[1;33m\u001b[0m\u001b[0m\n\u001b[1;32m-> 2174\u001b[1;33m         \u001b[0mself\u001b[0m\u001b[1;33m.\u001b[0m\u001b[0mpen\u001b[0m\u001b[1;33m(\u001b[0m\u001b[0mspeed\u001b[0m\u001b[1;33m=\u001b[0m\u001b[0mspeed\u001b[0m\u001b[1;33m)\u001b[0m\u001b[1;33m\u001b[0m\u001b[1;33m\u001b[0m\u001b[0m\n\u001b[0m\u001b[0;32m   2175\u001b[0m \u001b[1;33m\u001b[0m\u001b[0m\n\u001b[0;32m   2176\u001b[0m     \u001b[1;32mdef\u001b[0m \u001b[0mcolor\u001b[0m\u001b[1;33m(\u001b[0m\u001b[0mself\u001b[0m\u001b[1;33m,\u001b[0m \u001b[1;33m*\u001b[0m\u001b[0margs\u001b[0m\u001b[1;33m)\u001b[0m\u001b[1;33m:\u001b[0m\u001b[1;33m\u001b[0m\u001b[1;33m\u001b[0m\u001b[0m\n",
      "\u001b[1;32m~\\Anaconda3\\lib\\turtle.py\u001b[0m in \u001b[0;36mpen\u001b[1;34m(self, pen, **pendict)\u001b[0m\n\u001b[0;32m   2457\u001b[0m             self._shapetrafo = ( scx*ca, scy*(shf*ca + sa),\n\u001b[0;32m   2458\u001b[0m                                 -scx*sa, scy*(ca - shf*sa))\n\u001b[1;32m-> 2459\u001b[1;33m         \u001b[0mself\u001b[0m\u001b[1;33m.\u001b[0m\u001b[0m_update\u001b[0m\u001b[1;33m(\u001b[0m\u001b[1;33m)\u001b[0m\u001b[1;33m\u001b[0m\u001b[1;33m\u001b[0m\u001b[0m\n\u001b[0m\u001b[0;32m   2460\u001b[0m \u001b[1;33m\u001b[0m\u001b[0m\n\u001b[0;32m   2461\u001b[0m \u001b[1;31m## three dummy methods to be implemented by child class:\u001b[0m\u001b[1;33m\u001b[0m\u001b[1;33m\u001b[0m\u001b[1;33m\u001b[0m\u001b[0m\n",
      "\u001b[1;32m~\\Anaconda3\\lib\\turtle.py\u001b[0m in \u001b[0;36m_update\u001b[1;34m(self)\u001b[0m\n\u001b[0;32m   2658\u001b[0m             \u001b[1;32mreturn\u001b[0m\u001b[1;33m\u001b[0m\u001b[1;33m\u001b[0m\u001b[0m\n\u001b[0;32m   2659\u001b[0m         \u001b[1;32melif\u001b[0m \u001b[0mscreen\u001b[0m\u001b[1;33m.\u001b[0m\u001b[0m_tracing\u001b[0m \u001b[1;33m==\u001b[0m \u001b[1;36m1\u001b[0m\u001b[1;33m:\u001b[0m\u001b[1;33m\u001b[0m\u001b[1;33m\u001b[0m\u001b[0m\n\u001b[1;32m-> 2660\u001b[1;33m             \u001b[0mself\u001b[0m\u001b[1;33m.\u001b[0m\u001b[0m_update_data\u001b[0m\u001b[1;33m(\u001b[0m\u001b[1;33m)\u001b[0m\u001b[1;33m\u001b[0m\u001b[1;33m\u001b[0m\u001b[0m\n\u001b[0m\u001b[0;32m   2661\u001b[0m             \u001b[0mself\u001b[0m\u001b[1;33m.\u001b[0m\u001b[0m_drawturtle\u001b[0m\u001b[1;33m(\u001b[0m\u001b[1;33m)\u001b[0m\u001b[1;33m\u001b[0m\u001b[1;33m\u001b[0m\u001b[0m\n\u001b[0;32m   2662\u001b[0m             \u001b[0mscreen\u001b[0m\u001b[1;33m.\u001b[0m\u001b[0m_update\u001b[0m\u001b[1;33m(\u001b[0m\u001b[1;33m)\u001b[0m                  \u001b[1;31m# TurtleScreenBase\u001b[0m\u001b[1;33m\u001b[0m\u001b[1;33m\u001b[0m\u001b[0m\n",
      "\u001b[1;32m~\\Anaconda3\\lib\\turtle.py\u001b[0m in \u001b[0;36m_update_data\u001b[1;34m(self)\u001b[0m\n\u001b[0;32m   2644\u001b[0m \u001b[1;33m\u001b[0m\u001b[0m\n\u001b[0;32m   2645\u001b[0m     \u001b[1;32mdef\u001b[0m \u001b[0m_update_data\u001b[0m\u001b[1;33m(\u001b[0m\u001b[0mself\u001b[0m\u001b[1;33m)\u001b[0m\u001b[1;33m:\u001b[0m\u001b[1;33m\u001b[0m\u001b[1;33m\u001b[0m\u001b[0m\n\u001b[1;32m-> 2646\u001b[1;33m         \u001b[0mself\u001b[0m\u001b[1;33m.\u001b[0m\u001b[0mscreen\u001b[0m\u001b[1;33m.\u001b[0m\u001b[0m_incrementudc\u001b[0m\u001b[1;33m(\u001b[0m\u001b[1;33m)\u001b[0m\u001b[1;33m\u001b[0m\u001b[1;33m\u001b[0m\u001b[0m\n\u001b[0m\u001b[0;32m   2647\u001b[0m         \u001b[1;32mif\u001b[0m \u001b[0mself\u001b[0m\u001b[1;33m.\u001b[0m\u001b[0mscreen\u001b[0m\u001b[1;33m.\u001b[0m\u001b[0m_updatecounter\u001b[0m \u001b[1;33m!=\u001b[0m \u001b[1;36m0\u001b[0m\u001b[1;33m:\u001b[0m\u001b[1;33m\u001b[0m\u001b[1;33m\u001b[0m\u001b[0m\n\u001b[0;32m   2648\u001b[0m             \u001b[1;32mreturn\u001b[0m\u001b[1;33m\u001b[0m\u001b[1;33m\u001b[0m\u001b[0m\n",
      "\u001b[1;32m~\\Anaconda3\\lib\\turtle.py\u001b[0m in \u001b[0;36m_incrementudc\u001b[1;34m(self)\u001b[0m\n\u001b[0;32m   1290\u001b[0m         \u001b[1;32mif\u001b[0m \u001b[1;32mnot\u001b[0m \u001b[0mTurtleScreen\u001b[0m\u001b[1;33m.\u001b[0m\u001b[0m_RUNNING\u001b[0m\u001b[1;33m:\u001b[0m\u001b[1;33m\u001b[0m\u001b[1;33m\u001b[0m\u001b[0m\n\u001b[0;32m   1291\u001b[0m             \u001b[0mTurtleScreen\u001b[0m\u001b[1;33m.\u001b[0m\u001b[0m_RUNNING\u001b[0m \u001b[1;33m=\u001b[0m \u001b[1;32mTrue\u001b[0m\u001b[1;33m\u001b[0m\u001b[1;33m\u001b[0m\u001b[0m\n\u001b[1;32m-> 1292\u001b[1;33m             \u001b[1;32mraise\u001b[0m \u001b[0mTerminator\u001b[0m\u001b[1;33m\u001b[0m\u001b[1;33m\u001b[0m\u001b[0m\n\u001b[0m\u001b[0;32m   1293\u001b[0m         \u001b[1;32mif\u001b[0m \u001b[0mself\u001b[0m\u001b[1;33m.\u001b[0m\u001b[0m_tracing\u001b[0m \u001b[1;33m>\u001b[0m \u001b[1;36m0\u001b[0m\u001b[1;33m:\u001b[0m\u001b[1;33m\u001b[0m\u001b[1;33m\u001b[0m\u001b[0m\n\u001b[0;32m   1294\u001b[0m             \u001b[0mself\u001b[0m\u001b[1;33m.\u001b[0m\u001b[0m_updatecounter\u001b[0m \u001b[1;33m+=\u001b[0m \u001b[1;36m1\u001b[0m\u001b[1;33m\u001b[0m\u001b[1;33m\u001b[0m\u001b[0m\n",
      "\u001b[1;31mTerminator\u001b[0m: "
     ]
    }
   ],
   "source": [
    "# generating blue flowers\n",
    "\n",
    "from turtle import*\n",
    "import random\n",
    "for n in range(50):\n",
    "    penup()\n",
    "    goto(random.randint(-400,400),random.randint(-400,400))\n",
    "    \n",
    "    red_amount=random.randint(0,30)/100.0\n",
    "    blue_amount=random.randint(50,100)/100.0\n",
    "    green_amount=random.randint(0,30)/100.0\n",
    "    \n",
    "    pencolor((red_amount,blue_amount,green_amount))\n",
    "    \n",
    "    circle_size=random.randint(10,40)\n",
    "    pensize(random.randint(4,6))\n",
    "    \n",
    "    for i in range(6):\n",
    "        circle(circle_size)\n",
    "        left(60)\n",
    "        "
   ]
  },
  {
   "cell_type": "code",
   "execution_count": 25,
   "metadata": {},
   "outputs": [],
   "source": [
    "#generating blue flowers\n",
    "from turtle import *\n",
    "import random\n",
    "\n",
    "for n in range(50):\n",
    "    penup()\n",
    "    goto(random.randint(-400,400),random.randint(-400,400))\n",
    "    pendown()\n",
    "    red_amount=random.randint(0,30)/100.0\n",
    "    blue_amount=random.randint(50,100)/100.0\n",
    "    green_amount=random.randint(0,30)/100.0\n",
    "    pencolor((red_amount,blue_amount,green_amount))\n",
    "    circle_size=random.randint(10,40)\n",
    "    pensize(random.randint(4,6))\n",
    "    for i in range(6):\n",
    "        circle(circle_size)\n",
    "        left(60)\n",
    "tt.done()"
   ]
  },
  {
   "cell_type": "code",
   "execution_count": 39,
   "metadata": {},
   "outputs": [
    {
     "ename": "Terminator",
     "evalue": "",
     "output_type": "error",
     "traceback": [
      "\u001b[1;31m---------------------------------------------------------------------------\u001b[0m",
      "\u001b[1;31mTerminator\u001b[0m                                Traceback (most recent call last)",
      "\u001b[1;32m<ipython-input-39-2abe2d28750a>\u001b[0m in \u001b[0;36m<module>\u001b[1;34m\u001b[0m\n\u001b[0;32m     44\u001b[0m \u001b[1;33m\u001b[0m\u001b[0m\n\u001b[0;32m     45\u001b[0m \u001b[1;33m\u001b[0m\u001b[0m\n\u001b[1;32m---> 46\u001b[1;33m \u001b[0mtt\u001b[0m\u001b[1;33m.\u001b[0m\u001b[0mdone\u001b[0m\u001b[1;33m(\u001b[0m\u001b[1;33m)\u001b[0m\u001b[1;33m\u001b[0m\u001b[1;33m\u001b[0m\u001b[0m\n\u001b[0m\u001b[0;32m     47\u001b[0m \u001b[1;33m\u001b[0m\u001b[0m\n\u001b[0;32m     48\u001b[0m \u001b[1;33m\u001b[0m\u001b[0m\n",
      "\u001b[1;32m~\\Anaconda3\\lib\\turtle.py\u001b[0m in \u001b[0;36mmainloop\u001b[1;34m()\u001b[0m\n",
      "\u001b[1;31mTerminator\u001b[0m: "
     ]
    }
   ],
   "source": [
    "# symbol generation using Python\n",
    "\n",
    "from turtle import*\n",
    "def main():\n",
    "    colors=(\"orange\",\"turquoise\",\"pink\",\"yellow\",\"grey\",\"#E76F90\",\"red\",\"green\",\"purple\")\n",
    "    reset()\n",
    "    Screen()\n",
    "    up()\n",
    "    goto(-320,-195)\n",
    "    width(70)\n",
    "    for pcolor in colors:\n",
    "        color(pcolor)\n",
    "        down()\n",
    "        forward(640)\n",
    "        up()\n",
    "        backward(640)\n",
    "        left(90)\n",
    "        forward(66)\n",
    "        right(90)\n",
    "    width(55)\n",
    "    color(\"white\")\n",
    "    goto(0,-170)\n",
    "    down()\n",
    "    \n",
    "    circle(170)\n",
    "    left(90)\n",
    "    forward(340)\n",
    "    up()\n",
    "    left(180)\n",
    "    forward(170)\n",
    "    right(45)\n",
    "    down()\n",
    "    forward(170)\n",
    "    up()\n",
    "    backward(170)\n",
    "    left(90)\n",
    "    down()\n",
    "    forward(170)\n",
    "    up()\n",
    "    goto(0,300)\n",
    "if __name__==\"__main__\":\n",
    "    main()\n",
    "    mainloop()\n",
    "\n",
    "    \n",
    "tt.done()    \n",
    "    \n",
    "    "
   ]
  },
  {
   "cell_type": "code",
   "execution_count": null,
   "metadata": {},
   "outputs": [],
   "source": [
    "from turtle import*\n",
    "N=80\n",
    "def f(x):\n",
    "    return 3.9*x*(1-x)\n",
    "def g(x):\n",
    "    return 3.9*(x-x**2)\n",
    "def h(x):\n",
    "    return 3.9*x-3.9*x*x\n",
    "def jumpto(x,y):\n",
    "    penup()\n",
    "    goto(x,y)\n",
    "def line(x1,y1,x2,y2):\n",
    "    jumpto(x1,y1)\n",
    "    pendown()\n",
    "    jumpto(x2,y2)\n",
    "def coosys():\n",
    "    line(-1,0,N+1,0)\n",
    "    line(0,-0-1,0,1.1)\n",
    "    \n",
    "def plot(fun,start,color):\n",
    "    pencolor(color)\n",
    "    x=start\n",
    "    jumpto(0,x)\n",
    "    pendown()\n",
    "    dot(5)\n",
    "    for i in range(N):\n",
    "        x=fun(x)\n",
    "        goto(i+1,x)\n",
    "        dot(5)\n",
    "        \n",
    "def main():\n",
    "    reset()\n",
    "    setworldcoordinates(-1.0,-1.0,N+1,1.1)\n",
    "    speed(0)\n",
    "    hideturtle()\n",
    "    coosys()\n",
    "    plot(f,0.35,\"blue\")\n",
    "    \n",
    "    "
   ]
  },
  {
   "cell_type": "code",
   "execution_count": null,
   "metadata": {},
   "outputs": [],
   "source": []
  }
 ],
 "metadata": {
  "kernelspec": {
   "display_name": "Python 3",
   "language": "python",
   "name": "python3"
  },
  "language_info": {
   "codemirror_mode": {
    "name": "ipython",
    "version": 3
   },
   "file_extension": ".py",
   "mimetype": "text/x-python",
   "name": "python",
   "nbconvert_exporter": "python",
   "pygments_lexer": "ipython3",
   "version": "3.7.3"
  }
 },
 "nbformat": 4,
 "nbformat_minor": 2
}
